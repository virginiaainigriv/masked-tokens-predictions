{
 "cells": [
  {
   "cell_type": "code",
   "execution_count": null,
   "metadata": {},
   "outputs": [],
   "source": [
    "import pandas as pd\n",
    "\n",
    "\n",
    "pr = read_dataframe('pr', 'random')\n",
    "print('pr_model')\n",
    "calculate_identical_values(pr)\n",
    "\n",
    "my = read_dataframe('my', 'random')\n",
    "print('my_model')\n",
    "calculate_identical_values(my)\n",
    "\n",
    "mg = read_dataframe('mg', 'random')\n",
    "print('mg_model')\n",
    "calculate_identical_values(mg)\n",
    "\n"
   ]
  },
  {
   "cell_type": "code",
   "execution_count": null,
   "metadata": {},
   "outputs": [],
   "source": [
    "def read_dataframe(model, file_name):\n",
    "  # Read the CSV file into a DataFrame\n",
    "  df = pd.read_csv(f'/content/{model}_{file_name}.csv')\n",
    "\n",
    "  # Sort the DataFrame by the 'cosine_similarity_1' column in descending order,\n",
    "  # and then by the 'score_prediction_1' column in descending order\n",
    "  df_sorted = df.sort_values(['cosine_similarity_2', 'score_prediction_1'], \n",
    "                            ascending=[False, False])\n",
    "  \n",
    "  return df"
   ]
  },
  {
   "cell_type": "code",
   "execution_count": null,
   "metadata": {},
   "outputs": [],
   "source": [
    "def calculate_identical_values(df):  \n",
    "  # Create a boolean mask that is True for rows where at least one of the cosine_similarity columns is >= 1\n",
    "  cosine_mask = (df['cosine_similarity_1'] >= 1) | (df['cosine_similarity_2'] >= 1) | (df['cosine_similarity_3'] >= 1)\n",
    "\n",
    "  # Filter the DataFrame to include only the rows where the mask is True\n",
    "  df_filtered = df[cosine_mask]\n",
    "  df_filtered = df_filtered.reset_index(drop=True)\n",
    "  value_counts = df_filtered['mask_value'].value_counts()\n",
    "\n",
    "  print(value_counts, 'total words ', len(df_filtered))\n",
    "\n",
    "  # Print the filtered DataFrame\n",
    "  df_filtered\n"
   ]
  }
 ],
 "metadata": {
  "language_info": {
   "name": "python"
  },
  "orig_nbformat": 4
 },
 "nbformat": 4,
 "nbformat_minor": 2
}
